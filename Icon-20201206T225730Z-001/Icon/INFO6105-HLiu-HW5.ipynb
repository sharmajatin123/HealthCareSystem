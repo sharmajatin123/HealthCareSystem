{
 "cells": [
  {
   "cell_type": "markdown",
   "metadata": {},
   "source": [
    "INFO6105 Instructor: Dr. Handan Liu\n",
    "\n",
    "Homework 5\n",
    "\n",
    "Grading: total 100 points\n"
   ]
  },
  {
   "cell_type": "raw",
   "metadata": {},
   "source": []
  },
  {
   "cell_type": "raw",
   "metadata": {},
   "source": [
    "1. Parameter tuning (total 32 points)\n",
    "Goal: Select the best tuning parameters (aka \"hyperparameters\") for KNN (K nearest neighbors) on the iris dataset\n",
    "(0) read in the iris dataset: iris = load_iris()\n",
    "(1) create X (features) and y (response) [4pts]\n",
    "(2) 10-fold cross-validation with K=5 for KNN (the n_neighbors parameter), scoring is 'accuracy' [8pts]\n",
    "(3) use average accuracy as an estimate of out-of-sample accuracy [4pts]\n",
    "(4) search for an optimal value of K for KNN [10pts]\n",
    "(5) plot the value of K for KNN (x-axis) versus the cross-validated accuracy (y-axis) [6pts]"
   ]
  },
  {
   "cell_type": "raw",
   "metadata": {},
   "source": []
  },
  {
   "cell_type": "raw",
   "metadata": {},
   "source": [
    "2. Model selection (total 12 points)\n",
    "Goal: Compare the best KNN model with logistic regression on the iris dataset\n",
    "(1) 10-fold cross-validation with the best KNN model, scoring is 'accuracy' [6pts]\n",
    "(2) 10-fold cross-validation with logistic regression, scoring is 'accuracy' [6pts]"
   ]
  },
  {
   "cell_type": "raw",
   "metadata": {},
   "source": []
  },
  {
   "cell_type": "raw",
   "metadata": {},
   "source": [
    "3. Feature selection (total 36 points)\n",
    "Goal: Select whether the Newspaper feature should be included in the linear regression model on the advertising dataset\n",
    "(0) read in the advertising dataset\n",
    "(1) create a Python list of three feature names: TV, radio, newpaper (5 points)\n",
    "(2) use the list to select a subset of the DataFrame (X) (5 points)\n",
    "(3) select the sales column as the response (y) (5 points)\n",
    "(4) 10-fold cross-validation with all three features, scoring is 'neg_mean_squared_error' (6 points) \n",
    "(5) fix the sign of MSE scores (5 points)\n",
    "(6) convert from MSE to RMSE (5 points)\n",
    "(7) calculate the average RMSE (5 points)\n",
    "(8) 10-fold cross-validation with two features (excluding Newspaper), scoring is'neg_mean_squared_error' (10)"
   ]
  },
  {
   "cell_type": "raw",
   "metadata": {},
   "source": []
  },
  {
   "cell_type": "raw",
   "metadata": {},
   "source": [
    "4. Contruct a decision tree (total 20 points)\n",
    "(1) After loading Breast Cancer dataset, print the target names (target_names) and feature names (feature_names). [4 pts] \n",
    "(2) Split the dataset into 2 parts: half for traning and another half for testing [2pts], and instantiate the decision tree model (setting max_depth=4) [2pts] to get the accuracy score for testing data[2pts]. [6 pts]\n",
    "(2) Drawing a decision tree using graphviz with the parameters as: 'class_names' is set as malignant and benign, 'feature_names' is set as the feature names, 'impurity' is False and 'filled' is True; output the tree as a file. [5pts] \n",
    "    read in this file and visualize this tree graph. [5pts]"
   ]
  },
  {
   "cell_type": "code",
   "execution_count": null,
   "metadata": {},
   "outputs": [],
   "source": []
  },
  {
   "cell_type": "code",
   "execution_count": null,
   "metadata": {},
   "outputs": [],
   "source": []
  },
  {
   "cell_type": "code",
   "execution_count": null,
   "metadata": {},
   "outputs": [],
   "source": []
  }
 ],
 "metadata": {
  "kernelspec": {
   "display_name": "Python 3",
   "language": "python",
   "name": "python3"
  },
  "language_info": {
   "codemirror_mode": {
    "name": "ipython",
    "version": 3
   },
   "file_extension": ".py",
   "mimetype": "text/x-python",
   "name": "python",
   "nbconvert_exporter": "python",
   "pygments_lexer": "ipython3",
   "version": "3.7.6"
  }
 },
 "nbformat": 4,
 "nbformat_minor": 4
}
